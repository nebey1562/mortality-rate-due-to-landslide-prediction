{
 "cells": [
  {
   "cell_type": "code",
   "execution_count": 2,
   "id": "5c06ef36",
   "metadata": {},
   "outputs": [
    {
     "name": "stdout",
     "output_type": "stream",
     "text": [
      "^C\n",
      "Note: you may need to restart the kernel to use updated packages.\n"
     ]
    }
   ],
   "source": [
    "pip install torch"
   ]
  },
  {
   "cell_type": "code",
   "execution_count": 4,
   "id": "89f45b1c",
   "metadata": {},
   "outputs": [
    {
     "name": "stdout",
     "output_type": "stream",
     "text": [
      "Collecting tensorflow\n",
      "  Obtaining dependency information for tensorflow from https://files.pythonhosted.org/packages/9e/b8/ed5f794359d05cd0bffb894c6418da87b93016ee17b669d55c45d1bd5d5b/tensorflow-2.13.0-cp311-cp311-win_amd64.whl.metadata\n",
      "  Using cached tensorflow-2.13.0-cp311-cp311-win_amd64.whl.metadata (2.6 kB)\n",
      "Collecting tensorflow-intel==2.13.0 (from tensorflow)\n",
      "  Obtaining dependency information for tensorflow-intel==2.13.0 from https://files.pythonhosted.org/packages/2f/2f/3c84f675931ce3bcbc7e23acbba1e5d7f05ce769adab48322de57a9f5928/tensorflow_intel-2.13.0-cp311-cp311-win_amd64.whl.metadata\n",
      "  Using cached tensorflow_intel-2.13.0-cp311-cp311-win_amd64.whl.metadata (4.1 kB)\n",
      "Collecting absl-py>=1.0.0 (from tensorflow-intel==2.13.0->tensorflow)\n",
      "  Obtaining dependency information for absl-py>=1.0.0 from https://files.pythonhosted.org/packages/01/e4/dc0a1dcc4e74e08d7abedab278c795eef54a224363bb18f5692f416d834f/absl_py-2.0.0-py3-none-any.whl.metadata\n",
      "  Downloading absl_py-2.0.0-py3-none-any.whl.metadata (2.3 kB)\n",
      "Collecting astunparse>=1.6.0 (from tensorflow-intel==2.13.0->tensorflow)\n",
      "  Using cached astunparse-1.6.3-py2.py3-none-any.whl (12 kB)\n",
      "Collecting flatbuffers>=23.1.21 (from tensorflow-intel==2.13.0->tensorflow)\n",
      "  Obtaining dependency information for flatbuffers>=23.1.21 from https://files.pythonhosted.org/packages/6f/12/d5c79ee252793ffe845d58a913197bfa02ae9a0b5c9bc3dc4b58d477b9e7/flatbuffers-23.5.26-py2.py3-none-any.whl.metadata\n",
      "  Using cached flatbuffers-23.5.26-py2.py3-none-any.whl.metadata (850 bytes)\n",
      "Collecting gast<=0.4.0,>=0.2.1 (from tensorflow-intel==2.13.0->tensorflow)\n",
      "  Using cached gast-0.4.0-py3-none-any.whl (9.8 kB)\n",
      "Collecting google-pasta>=0.1.1 (from tensorflow-intel==2.13.0->tensorflow)\n",
      "  Using cached google_pasta-0.2.0-py3-none-any.whl (57 kB)\n",
      "Requirement already satisfied: h5py>=2.9.0 in d:\\conda\\lib\\site-packages (from tensorflow-intel==2.13.0->tensorflow) (3.7.0)\n",
      "Collecting libclang>=13.0.0 (from tensorflow-intel==2.13.0->tensorflow)\n",
      "  Obtaining dependency information for libclang>=13.0.0 from https://files.pythonhosted.org/packages/02/8c/dc970bc00867fe290e8c8a7befa1635af716a9ebdfe3fb9dce0ca4b522ce/libclang-16.0.6-py2.py3-none-win_amd64.whl.metadata\n",
      "  Using cached libclang-16.0.6-py2.py3-none-win_amd64.whl.metadata (5.3 kB)\n",
      "Requirement already satisfied: numpy<=1.24.3,>=1.22 in d:\\conda\\lib\\site-packages (from tensorflow-intel==2.13.0->tensorflow) (1.24.3)\n",
      "Collecting opt-einsum>=2.3.2 (from tensorflow-intel==2.13.0->tensorflow)\n",
      "  Using cached opt_einsum-3.3.0-py3-none-any.whl (65 kB)\n",
      "Requirement already satisfied: packaging in d:\\conda\\lib\\site-packages (from tensorflow-intel==2.13.0->tensorflow) (23.0)\n",
      "Collecting protobuf!=4.21.0,!=4.21.1,!=4.21.2,!=4.21.3,!=4.21.4,!=4.21.5,<5.0.0dev,>=3.20.3 (from tensorflow-intel==2.13.0->tensorflow)\n",
      "  Obtaining dependency information for protobuf!=4.21.0,!=4.21.1,!=4.21.2,!=4.21.3,!=4.21.4,!=4.21.5,<5.0.0dev,>=3.20.3 from https://files.pythonhosted.org/packages/5e/46/5b9674a33cbf690ffdd79ab1863767a66461cd06ea7aeb9f90e4e50be7a5/protobuf-4.24.3-cp310-abi3-win_amd64.whl.metadata\n",
      "  Using cached protobuf-4.24.3-cp310-abi3-win_amd64.whl.metadata (540 bytes)\n",
      "Requirement already satisfied: setuptools in d:\\conda\\lib\\site-packages (from tensorflow-intel==2.13.0->tensorflow) (68.0.0)\n",
      "Requirement already satisfied: six>=1.12.0 in d:\\conda\\lib\\site-packages (from tensorflow-intel==2.13.0->tensorflow) (1.16.0)\n",
      "Collecting termcolor>=1.1.0 (from tensorflow-intel==2.13.0->tensorflow)\n",
      "  Using cached termcolor-2.3.0-py3-none-any.whl (6.9 kB)\n",
      "Collecting typing-extensions<4.6.0,>=3.6.6 (from tensorflow-intel==2.13.0->tensorflow)\n",
      "  Using cached typing_extensions-4.5.0-py3-none-any.whl (27 kB)\n",
      "Requirement already satisfied: wrapt>=1.11.0 in d:\\conda\\lib\\site-packages (from tensorflow-intel==2.13.0->tensorflow) (1.14.1)\n",
      "Collecting grpcio<2.0,>=1.24.3 (from tensorflow-intel==2.13.0->tensorflow)\n",
      "  Obtaining dependency information for grpcio<2.0,>=1.24.3 from https://files.pythonhosted.org/packages/2c/98/6f45e1e42993c6b9e607b10a9a103e98e2e73d6fd430d4004adff216a98e/grpcio-1.58.0-cp311-cp311-win_amd64.whl.metadata\n",
      "  Using cached grpcio-1.58.0-cp311-cp311-win_amd64.whl.metadata (4.1 kB)\n",
      "Collecting tensorboard<2.14,>=2.13 (from tensorflow-intel==2.13.0->tensorflow)\n",
      "  Using cached tensorboard-2.13.0-py3-none-any.whl (5.6 MB)\n",
      "Collecting tensorflow-estimator<2.14,>=2.13.0 (from tensorflow-intel==2.13.0->tensorflow)\n",
      "  Obtaining dependency information for tensorflow-estimator<2.14,>=2.13.0 from https://files.pythonhosted.org/packages/72/5c/c318268d96791c6222ad7df1651bbd1b2409139afeb6f468c0f327177016/tensorflow_estimator-2.13.0-py2.py3-none-any.whl.metadata\n",
      "  Using cached tensorflow_estimator-2.13.0-py2.py3-none-any.whl.metadata (1.3 kB)\n",
      "Collecting keras<2.14,>=2.13.1 (from tensorflow-intel==2.13.0->tensorflow)\n",
      "  Obtaining dependency information for keras<2.14,>=2.13.1 from https://files.pythonhosted.org/packages/2e/f3/19da7511b45e80216cbbd9467137b2d28919c58ba1ccb971435cb631e470/keras-2.13.1-py3-none-any.whl.metadata\n",
      "  Using cached keras-2.13.1-py3-none-any.whl.metadata (2.4 kB)\n",
      "Collecting tensorflow-io-gcs-filesystem>=0.23.1 (from tensorflow-intel==2.13.0->tensorflow)\n",
      "  Using cached tensorflow_io_gcs_filesystem-0.31.0-cp311-cp311-win_amd64.whl (1.5 MB)\n",
      "Requirement already satisfied: wheel<1.0,>=0.23.0 in d:\\conda\\lib\\site-packages (from astunparse>=1.6.0->tensorflow-intel==2.13.0->tensorflow) (0.38.4)\n",
      "Collecting google-auth<3,>=1.6.3 (from tensorboard<2.14,>=2.13->tensorflow-intel==2.13.0->tensorflow)\n",
      "  Obtaining dependency information for google-auth<3,>=1.6.3 from https://files.pythonhosted.org/packages/9d/44/5a992cb9d7bf8aaae73bc5adaf721ad08731c9d00c1c17999a8691404b0c/google_auth-2.23.0-py2.py3-none-any.whl.metadata\n",
      "  Using cached google_auth-2.23.0-py2.py3-none-any.whl.metadata (4.2 kB)\n",
      "Collecting google-auth-oauthlib<1.1,>=0.5 (from tensorboard<2.14,>=2.13->tensorflow-intel==2.13.0->tensorflow)\n",
      "  Using cached google_auth_oauthlib-1.0.0-py2.py3-none-any.whl (18 kB)\n",
      "Requirement already satisfied: markdown>=2.6.8 in d:\\conda\\lib\\site-packages (from tensorboard<2.14,>=2.13->tensorflow-intel==2.13.0->tensorflow) (3.4.1)\n",
      "Requirement already satisfied: requests<3,>=2.21.0 in d:\\conda\\lib\\site-packages (from tensorboard<2.14,>=2.13->tensorflow-intel==2.13.0->tensorflow) (2.31.0)\n",
      "Collecting tensorboard-data-server<0.8.0,>=0.7.0 (from tensorboard<2.14,>=2.13->tensorflow-intel==2.13.0->tensorflow)\n",
      "  Obtaining dependency information for tensorboard-data-server<0.8.0,>=0.7.0 from https://files.pythonhosted.org/packages/da/61/6e9ff8258422d287eec718872fb71e05324356722ab658c8afda25f51539/tensorboard_data_server-0.7.1-py3-none-any.whl.metadata\n",
      "  Using cached tensorboard_data_server-0.7.1-py3-none-any.whl.metadata (1.1 kB)\n",
      "Requirement already satisfied: werkzeug>=1.0.1 in d:\\conda\\lib\\site-packages (from tensorboard<2.14,>=2.13->tensorflow-intel==2.13.0->tensorflow) (2.2.3)\n",
      "Collecting cachetools<6.0,>=2.0.0 (from google-auth<3,>=1.6.3->tensorboard<2.14,>=2.13->tensorflow-intel==2.13.0->tensorflow)\n",
      "  Obtaining dependency information for cachetools<6.0,>=2.0.0 from https://files.pythonhosted.org/packages/a9/c9/c8a7710f2cedcb1db9224fdd4d8307c9e48cbddc46c18b515fefc0f1abbe/cachetools-5.3.1-py3-none-any.whl.metadata\n",
      "  Using cached cachetools-5.3.1-py3-none-any.whl.metadata (5.2 kB)\n",
      "Requirement already satisfied: pyasn1-modules>=0.2.1 in d:\\conda\\lib\\site-packages (from google-auth<3,>=1.6.3->tensorboard<2.14,>=2.13->tensorflow-intel==2.13.0->tensorflow) (0.2.8)\n",
      "Collecting rsa<5,>=3.1.4 (from google-auth<3,>=1.6.3->tensorboard<2.14,>=2.13->tensorflow-intel==2.13.0->tensorflow)\n",
      "  Using cached rsa-4.9-py3-none-any.whl (34 kB)\n",
      "Requirement already satisfied: urllib3<2.0 in d:\\conda\\lib\\site-packages (from google-auth<3,>=1.6.3->tensorboard<2.14,>=2.13->tensorflow-intel==2.13.0->tensorflow) (1.26.16)\n",
      "Collecting requests-oauthlib>=0.7.0 (from google-auth-oauthlib<1.1,>=0.5->tensorboard<2.14,>=2.13->tensorflow-intel==2.13.0->tensorflow)\n",
      "  Using cached requests_oauthlib-1.3.1-py2.py3-none-any.whl (23 kB)\n",
      "Requirement already satisfied: charset-normalizer<4,>=2 in d:\\conda\\lib\\site-packages (from requests<3,>=2.21.0->tensorboard<2.14,>=2.13->tensorflow-intel==2.13.0->tensorflow) (2.0.4)\n",
      "Requirement already satisfied: idna<4,>=2.5 in d:\\conda\\lib\\site-packages (from requests<3,>=2.21.0->tensorboard<2.14,>=2.13->tensorflow-intel==2.13.0->tensorflow) (3.4)\n",
      "Requirement already satisfied: certifi>=2017.4.17 in d:\\conda\\lib\\site-packages (from requests<3,>=2.21.0->tensorboard<2.14,>=2.13->tensorflow-intel==2.13.0->tensorflow) (2023.7.22)\n",
      "Requirement already satisfied: MarkupSafe>=2.1.1 in d:\\conda\\lib\\site-packages (from werkzeug>=1.0.1->tensorboard<2.14,>=2.13->tensorflow-intel==2.13.0->tensorflow) (2.1.1)\n",
      "Requirement already satisfied: pyasn1<0.5.0,>=0.4.6 in d:\\conda\\lib\\site-packages (from pyasn1-modules>=0.2.1->google-auth<3,>=1.6.3->tensorboard<2.14,>=2.13->tensorflow-intel==2.13.0->tensorflow) (0.4.8)\n",
      "Collecting oauthlib>=3.0.0 (from requests-oauthlib>=0.7.0->google-auth-oauthlib<1.1,>=0.5->tensorboard<2.14,>=2.13->tensorflow-intel==2.13.0->tensorflow)\n",
      "  Using cached oauthlib-3.2.2-py3-none-any.whl (151 kB)\n",
      "Using cached tensorflow-2.13.0-cp311-cp311-win_amd64.whl (1.9 kB)\n",
      "Using cached tensorflow_intel-2.13.0-cp311-cp311-win_amd64.whl (276.6 MB)\n",
      "Downloading absl_py-2.0.0-py3-none-any.whl (130 kB)\n",
      "   ---------------------------------------- 0.0/130.2 kB ? eta -:--:--\n",
      "   ------------ -------------------------- 41.0/130.2 kB 653.6 kB/s eta 0:00:01\n",
      "   ---------------------------------- ----- 112.6/130.2 kB 1.3 MB/s eta 0:00:01\n",
      "   ---------------------------------------- 130.2/130.2 kB 1.1 MB/s eta 0:00:00\n",
      "Using cached flatbuffers-23.5.26-py2.py3-none-any.whl (26 kB)\n",
      "Using cached grpcio-1.58.0-cp311-cp311-win_amd64.whl (4.3 MB)\n",
      "Using cached keras-2.13.1-py3-none-any.whl (1.7 MB)\n",
      "Using cached libclang-16.0.6-py2.py3-none-win_amd64.whl (24.4 MB)\n",
      "Using cached protobuf-4.24.3-cp310-abi3-win_amd64.whl (430 kB)\n",
      "Using cached tensorflow_estimator-2.13.0-py2.py3-none-any.whl (440 kB)\n",
      "Using cached google_auth-2.23.0-py2.py3-none-any.whl (181 kB)\n",
      "Using cached tensorboard_data_server-0.7.1-py3-none-any.whl (2.4 kB)\n",
      "Using cached cachetools-5.3.1-py3-none-any.whl (9.3 kB)\n",
      "Installing collected packages: libclang, flatbuffers, typing-extensions, termcolor, tensorflow-io-gcs-filesystem, tensorflow-estimator, tensorboard-data-server, rsa, protobuf, opt-einsum, oauthlib, keras, grpcio, google-pasta, gast, cachetools, astunparse, absl-py, requests-oauthlib, google-auth, google-auth-oauthlib, tensorboard, tensorflow-intel, tensorflow\n",
      "  Attempting uninstall: typing-extensions\n",
      "    Found existing installation: typing_extensions 4.7.1\n",
      "    Uninstalling typing_extensions-4.7.1:\n",
      "      Successfully uninstalled typing_extensions-4.7.1\n",
      "Successfully installed absl-py-2.0.0 astunparse-1.6.3 cachetools-5.3.1 flatbuffers-23.5.26 gast-0.4.0 google-auth-2.23.0 google-auth-oauthlib-1.0.0 google-pasta-0.2.0 grpcio-1.58.0 keras-2.13.1 libclang-16.0.6 oauthlib-3.2.2 opt-einsum-3.3.0 protobuf-4.24.3 requests-oauthlib-1.3.1 rsa-4.9 tensorboard-2.13.0 tensorboard-data-server-0.7.1 tensorflow-2.13.0 tensorflow-estimator-2.13.0 tensorflow-intel-2.13.0 tensorflow-io-gcs-filesystem-0.31.0 termcolor-2.3.0 typing-extensions-4.5.0\n"
     ]
    }
   ],
   "source": [
    "import tensorflow"
   ]
  },
  {
   "cell_type": "code",
   "execution_count": 3,
   "id": "86c65b7a",
   "metadata": {},
   "outputs": [
    {
     "name": "stdout",
     "output_type": "stream",
     "text": [
      "Note: you may need to restart the kernel to use updated packages.\n"
     ]
    },
    {
     "name": "stderr",
     "output_type": "stream",
     "text": [
      "ERROR: Could not find a version that satisfies the requirement tensorflowz (from versions: none)\n",
      "ERROR: No matching distribution found for tensorflowz\n"
     ]
    }
   ],
   "source": [
    "pip install tensorflow"
   ]
  },
  {
   "cell_type": "code",
   "execution_count": 9,
   "id": "8e3f071c",
   "metadata": {
    "scrolled": true
   },
   "outputs": [
    {
     "data": {
      "application/vnd.jupyter.widget-view+json": {
       "model_id": "f219774848974ca584d5eeca40c218da",
       "version_major": 2,
       "version_minor": 0
      },
      "text/plain": [
       "Text(value='', description='Username:', placeholder='Enter your username')"
      ]
     },
     "metadata": {},
     "output_type": "display_data"
    },
    {
     "data": {
      "application/vnd.jupyter.widget-view+json": {
       "model_id": "8ffaa30cea8a403c8030fec37f51ae4c",
       "version_major": 2,
       "version_minor": 0
      },
      "text/plain": [
       "Password(description='Password:', placeholder='Enter your password')"
      ]
     },
     "metadata": {},
     "output_type": "display_data"
    },
    {
     "data": {
      "application/vnd.jupyter.widget-view+json": {
       "model_id": "6cb0eca27ad74a8981a3e95d513f46ab",
       "version_major": 2,
       "version_minor": 0
      },
      "text/plain": [
       "Button(button_style='success', description='Login', style=ButtonStyle())"
      ]
     },
     "metadata": {},
     "output_type": "display_data"
    },
    {
     "data": {
      "application/vnd.jupyter.widget-view+json": {
       "model_id": "82b1e433b5244ba283e105c7ffa865ce",
       "version_major": 2,
       "version_minor": 0
      },
      "text/plain": [
       "Output()"
      ]
     },
     "metadata": {},
     "output_type": "display_data"
    }
   ],
   "source": [
    "import ipywidgets as widgets\n",
    "from IPython.display import display, clear_output\n",
    "import matplotlib.pyplot as plt\n",
    "import pandas as pd\n",
    "import seaborn as sns\n",
    "import tensorflow as tf\n",
    "from tensorflow import keras\n",
    "import numpy as np\n",
    "from tensorflow.keras.models import load_model\n",
    "\n",
    "model=load_model('disas.h5',compile=False)\n",
    "optimizer=keras.optimizers.Adam(learning_rate=0.0001)\n",
    "model.compile(optimizer=optimizer, loss='sparse_categorical_crossentropy', metrics=['accuracy'])\n",
    "\n",
    "df=pd.read_csv(\"cleaned_data.csv\")\n",
    "df.columns\n",
    "deets=[]\n",
    "\n",
    "\n",
    "# Create text widgets for username and password\n",
    "username_widget = widgets.Text(\n",
    "    placeholder='Enter your username',\n",
    "    description='Username:',\n",
    ")\n",
    "password_widget = widgets.Password(\n",
    "    placeholder='Enter your password',\n",
    "    description='Password:',\n",
    ")\n",
    "\n",
    "submit_button = widgets.Button(\n",
    "    description='Submit',\n",
    "    button_style='success',\n",
    ")\n",
    "submit_button.layout.visibility = 'hidden'  # Initially hide the submit button\n",
    "\n",
    "\n",
    "# Create a submit button and additional buttons\n",
    "login_button = widgets.Button(\n",
    "    description='Login',\n",
    "    button_style='success',\n",
    ")\n",
    "checkbox_descriptions = ['Rain', 'Home Destroyed', 'Mudslide', 'Landslide', '1000-10,000', '10,1000-1,00,000', '1,00,000-10,00,000', '10,00,000-1,00,00,000']\n",
    "#custom_layout = widgets.Layout(width='300px')\n",
    "button1 = widgets.Button(description='Data')\n",
    "button2 = widgets.Button(description='Predict')\n",
    "button3 = widgets.Button(description='Research')\n",
    "submit_button = widgets.Button(\n",
    "    description='Submit',\n",
    "    button_style='success',\n",
    ")\n",
    "# Create a Dropdown widget for place selection\n",
    "places= ['Idukki', 'Thodupuzha', 'Munnar']  # Replace with actual place names\n",
    "places_dropdown = widgets.Dropdown(\n",
    "    options=places,\n",
    "    description='Select Place:',\n",
    "    value=None,\n",
    ")\n",
    "\n",
    "deets_textbox = widgets.Textarea(\n",
    "    description='Deets:',\n",
    "    value='',  # Initialize with an empty string\n",
    "    disabled=True,  # Make it read-only\n",
    "    layout=widgets.Layout(width='100%'),  # Set the width to 100%\n",
    ")\n",
    "\n",
    "# Create a \"Back\" button\n",
    "back_button = widgets.Button(\n",
    "    description='Back to Menu',\n",
    "    button_style='info',\n",
    ")\n",
    "\n",
    "disaster=['Landslide','WildFire','Pandemic','Earthquake','Flood']\n",
    "disaster_data=widgets.Dropdown(options=disaster,description='Select Disaster:',value=None)\n",
    "disaster_data.style.description_width ='100px'\n",
    "#disaster_data.layout.margin='10px 0'\n",
    "\n",
    "disaster=['Landslide','WildFire','Pandemic','Earthquake','Flood']\n",
    "disaster_names=widgets.Dropdown(options=disaster,description='Select Disaster:',value=None)\n",
    "disaster_names.style.description_width ='100px'\n",
    "\n",
    "label1 = widgets.Label()\n",
    "label2 = widgets.Label()\n",
    "label3 = widgets.Label()\n",
    "label4 = widgets.Label()\n",
    "label5 = widgets.Label()\n",
    "label6 = widgets.Label()\n",
    "label7 = widgets.Label()\n",
    "textbox1 = widgets.IntText(description = 'Location Accuracy:',value = None)\n",
    "textbox1.style.description_width ='150px'\n",
    "#textbox1.layout.display = 'none'\n",
    "# Create an output widget to display login status and additional buttons\n",
    "output = widgets.Output()\n",
    "\n",
    "# Function to handle login button click event\n",
    "def handle_login(sender):\n",
    "    with output:\n",
    "        clear_output()  # Clear previous output\n",
    "        username = username_widget.value\n",
    "        password = password_widget.value\n",
    "\n",
    "        # Replace this with your actual authentication logic\n",
    "        if username == 'admin' and password == 'admin':\n",
    "            print('Login successful!')\n",
    "            display(button1, button2, button3)  # Display additional buttons\n",
    "        else:\n",
    "            print('Login failed. Please check your credentials.')\n",
    "\n",
    "# Function to handle Data button click event\n",
    "def handle_data_button1(sender):\n",
    "    with output:\n",
    "        clear_output()  # Clear previous output\n",
    "        display(places_dropdown, label1, label2, label3, label4, label5,label6,label7, back_button)  # Display the places dropdown and \"Back\" button\n",
    "\n",
    "def handle_data_button2(sender):\n",
    "    with output:\n",
    "        clear_output()\n",
    "       # disaster_names.layout.display = 'block'\n",
    "        display(disaster_names,back_button)\n",
    "        \n",
    "def handle_data_button3(sender):\n",
    "    with output:\n",
    "        clear_output()\n",
    "        display(disaster_data,back_button)\n",
    "\n",
    "def handle_submit_button(sender):\n",
    "    update_deets_textbox()\n",
    "\n",
    "# Function to handle \"Back\" button click event\n",
    "def handle_back_button(sender):\n",
    "    with output:\n",
    "        clear_output()  # Clear previous output\n",
    "        display(button1, button2, button3)  # Return to the menu with three buttons       \n",
    "#//////////////////////////////////////////////////////    \n",
    "def handle_dropdown_change1(change):\n",
    "    selected_place = change.new\n",
    "    update_labels(selected_place) \n",
    "\n",
    "def update_labels(selected_place):\n",
    "    if selected_place == 'Idukki':\n",
    "        label_values = [\"213 in A\",\"59 in B\",\"13 in C\", 483, 7907914493, 9495044991, \"Red\"]   # Replace with values for Idukki\n",
    "    elif selected_place == 'Thodupuzha':\n",
    "        label_values = [\"107 in D\",\"174 in E\",\"116 in F\", 633, 7907914495, 9495044995, \"Yellow\"] # Replace with values for Thodupuzha\n",
    "    elif selected_place == 'Munnar':\n",
    "        label_values = [\"134 in G\",\"52 in H\",\"78 in I\", 374, 7907914467, 94950449956, \"Red\"] # Replace with values for Munnar\n",
    "    \n",
    "    label_values = [str(value) for value in label_values]\n",
    "    label1.value = f'Bed no: {label_values[0]}'\n",
    "    label2.value = f'Bed no: {label_values[1]}'\n",
    "    label3.value = f'Bed no: {label_values[2]}'\n",
    "    label4.value = f'Refugee buiding: {label_values[3]}'\n",
    "    label5.value = f'Volunteer PhoneNo: {label_values[4]}'\n",
    "    label6.value = f'Authority PhoneNo {label_values[5]}'\n",
    "    label7.value = f'Alert:{label_values[6]}'\n",
    "#/////////////////////////////////////////////////////////\n",
    "def handle_checkbox_change(change, checkbox_index):\n",
    "    global deets  # Declare deets as a global variable\n",
    "    deets[checkbox_index] = 1 if change.new else 0\n",
    "    \n",
    "def handle_dropdown_change2(change):\n",
    "    disaster_names = change.new\n",
    "    check_predict(disaster_names)\n",
    "\n",
    "def check_predict(disaster_names):\n",
    "    global deets\n",
    "    if disaster_names =='Landslide':\n",
    "        display(textbox1)\n",
    "        deets.extend([0] * (len(checkbox_descriptions)))\n",
    "        display_checkbox_options()\n",
    "        display(submit_button)\n",
    "\n",
    "def display_checkbox_options():\n",
    "    checkboxes = [widgets.Checkbox(description=desc) for desc in checkbox_descriptions]\n",
    "    checkboxes_container = widgets.VBox(checkboxes)\n",
    "    display(checkboxes_container)  \n",
    "    for i, checkbox in enumerate(checkboxes):\n",
    "        checkbox.observe(lambda change, checkbox_index=i: handle_checkbox_change(change, checkbox_index), names='value')\n",
    "#\n",
    "#def update_deets_textbox():\n",
    "#    deets_textbox.value = \"\\n\".join(map(str, deets))\n",
    "\n",
    "def handle_submit_button(sender):\n",
    "    with output:\n",
    "        deets.insert(-1,textbox1.value)\n",
    "        a=deets.pop(-2)\n",
    "        deets.insert(0,a)\n",
    "        for i in deets:\n",
    "            if i is True:\n",
    "                i=1\n",
    "            elif i is False:\n",
    "                i=0\n",
    "            else:\n",
    "                i=i\n",
    "        #deets=deets.insert(0, item)\n",
    "        X_new=np.array([deets])\n",
    "        predictions = model.predict(X_new)\n",
    "        predictions[[0]]*=10\n",
    "        result = (np.ceil(predictions)).astype(int)\n",
    "        print(\"Fatality:\",result[0,0])\n",
    "        print(\"Injury:\",result[0,1])\n",
    "#///////////////////////////////////////////////////////\n",
    "def handle_dropdown_change3(change):\n",
    "    disaster_data = change.new\n",
    "    plot_data(disaster_data)\n",
    "\n",
    "def plot_data(disaster_data):\n",
    "    if disaster_data =='Landslide':\n",
    "\n",
    "        cmap = sns.diverging_palette(220, 10, as_cmap=True)\n",
    "        sns.heatmap(df[['rain', 'downpour', 'other', 'small_scale', 'medium_scale', 'large_scale']].corr(), vmax=.3, center=0, cmap=cmap, square=True, linewidths=.5, cbar_kws={\"shrink\": .5})\n",
    "\n",
    "        \n",
    "        # Add a legend (if multiple data sets are plotted)\n",
    "        plt.legend()\n",
    "\n",
    "        # Show the plot\n",
    "        plt.grid(True)  # Optional: Add grid lines\n",
    "        plt.show()\n",
    "\n",
    "\n",
    "#/////////////////////////////////////////////////////////////    \n",
    "    \n",
    "# Attach the login, data button, and back button functions to their respective click events\n",
    "login_button.on_click(handle_login)\n",
    "button1.on_click(handle_data_button1)\n",
    "button2.on_click(handle_data_button2)\n",
    "button3.on_click(handle_data_button3)\n",
    "back_button.on_click(handle_back_button)\n",
    "places_dropdown.observe(handle_dropdown_change1, names='value')\n",
    "disaster_names.observe(handle_dropdown_change2, names='value')\n",
    "disaster_data.observe(handle_dropdown_change3, names='value')\n",
    "submit_button.on_click(handle_submit_button)\n",
    "#button_textbox_container = widgets.VBox([submit_button, deets_textbox])\n",
    "# Display the login page\n",
    "display(username_widget, password_widget, login_button, output)\n"
   ]
  },
  {
   "cell_type": "code",
   "execution_count": 10,
   "id": "3482e93f",
   "metadata": {},
   "outputs": [
    {
     "ename": "NameError",
     "evalue": "name 'label_values' is not defined",
     "output_type": "error",
     "traceback": [
      "\u001b[1;31m---------------------------------------------------------------------------\u001b[0m",
      "\u001b[1;31mNameError\u001b[0m                                 Traceback (most recent call last)",
      "Cell \u001b[1;32mIn[10], line 4\u001b[0m\n\u001b[0;32m      2\u001b[0m plt\u001b[38;5;241m.\u001b[39mfigure(figsize\u001b[38;5;241m=\u001b[39m(\u001b[38;5;241m10\u001b[39m, \u001b[38;5;241m6\u001b[39m))\n\u001b[0;32m      3\u001b[0m labels \u001b[38;5;241m=\u001b[39m [\u001b[38;5;124m'\u001b[39m\u001b[38;5;124mHospital Beds\u001b[39m\u001b[38;5;124m'\u001b[39m, \u001b[38;5;124m'\u001b[39m\u001b[38;5;124mRefugee Buildings\u001b[39m\u001b[38;5;124m'\u001b[39m, \u001b[38;5;124m'\u001b[39m\u001b[38;5;124mVolunteer Phone\u001b[39m\u001b[38;5;124m'\u001b[39m, \u001b[38;5;124m'\u001b[39m\u001b[38;5;124mAuthority Phone\u001b[39m\u001b[38;5;124m'\u001b[39m, \u001b[38;5;124m'\u001b[39m\u001b[38;5;124mAlert\u001b[39m\u001b[38;5;124m'\u001b[39m]\n\u001b[1;32m----> 4\u001b[0m values \u001b[38;5;241m=\u001b[39m label_values[:\u001b[38;5;241m5\u001b[39m]  \u001b[38;5;66;03m# Take the first 5 values from label_values\u001b[39;00m\n\u001b[0;32m      5\u001b[0m plt\u001b[38;5;241m.\u001b[39mbar(labels, values)\n\u001b[0;32m      6\u001b[0m plt\u001b[38;5;241m.\u001b[39mxlabel(\u001b[38;5;124m'\u001b[39m\u001b[38;5;124mCategories\u001b[39m\u001b[38;5;124m'\u001b[39m)\n",
      "\u001b[1;31mNameError\u001b[0m: name 'label_values' is not defined"
     ]
    },
    {
     "data": {
      "text/plain": [
       "<Figure size 1000x600 with 0 Axes>"
      ]
     },
     "metadata": {},
     "output_type": "display_data"
    }
   ],
   "source": [
    "\n",
    "\n",
    "    # Create a bar graph\n",
    "    plt.figure(figsize=(10, 6))\n",
    "    labels = ['Hospital Beds', 'Refugee Buildings', 'Volunteer Phone', 'Authority Phone', 'Alert']\n",
    "    values = label_values[:5]  # Take the first 5 values from label_values\n",
    "    plt.bar(labels, values)\n",
    "    plt.xlabel('Categories')\n",
    "    plt.ylabel('Values')\n",
    "    plt.title(f'Data for {selected_place}')\n",
    "    plt.show()\n",
    "    \n",
    "            #x_factor=df['fatality_count']\n",
    "        ##y_factor=df['admin_division_population']\n",
    "        #plt.figure(figsize=(8, 6))  # Optional: Set the figure size\n",
    "       # plt.scatter(x_factor, y_factor, c='blue', label='Data Points')  # 'c' sets the color, and 'label' sets the legend label\n",
    "\n",
    "        # Add labels and a title\n",
    "        #plt.xlabel('Rain')\n",
    "        #plt.ylabel('Mudslide')\n",
    "        #plt.title('Scatter Plot with Two Factors')\n",
    "        "
   ]
  },
  {
   "cell_type": "code",
   "execution_count": 11,
   "id": "15a4c5e1",
   "metadata": {},
   "outputs": [
    {
     "data": {
      "text/plain": [
       "Index(['event_description', 'location_description', 'location_accuracy',\n",
       "       'landslide_trigger', 'landslide_size', 'landslide_setting',\n",
       "       'landslide_category', 'fatality_count', 'injury_count', 'storm_name',\n",
       "       'photo_link', 'notes', 'event_import_source', 'event_import_id',\n",
       "       'country_name', 'country_code', 'admin_division_population', 'rain',\n",
       "       'earthquake', 'downpour', 'snow', 'other', 'small_scale',\n",
       "       'medium_scale', 'large_scale', 'home_destroyed', 'mudslide',\n",
       "       'landslide'],\n",
       "      dtype='object')"
      ]
     },
     "execution_count": 11,
     "metadata": {},
     "output_type": "execute_result"
    }
   ],
   "source": [
    "import pandas as pd\n",
    "import seaborn as sns\n",
    "df=pd.read_csv(\"cleaned_data.csv\")\n",
    "df.columns"
   ]
  },
  {
   "cell_type": "code",
   "execution_count": 12,
   "id": "644016ef",
   "metadata": {},
   "outputs": [],
   "source": [
    "#location accuracy,rain,homedestroyed,mudslide,landslide,1-10k,10k-100k,100k-1m,1m-10m"
   ]
  },
  {
   "cell_type": "code",
   "execution_count": 13,
   "id": "01c7966b",
   "metadata": {},
   "outputs": [
    {
     "data": {
      "text/plain": [
       "[20, 20, 20, 20, 1, 1, 1, 1, 0, 0, 0, 1]"
      ]
     },
     "execution_count": 13,
     "metadata": {},
     "output_type": "execute_result"
    }
   ],
   "source": [
    "deets"
   ]
  },
  {
   "cell_type": "code",
   "execution_count": 14,
   "id": "eec0c10f",
   "metadata": {},
   "outputs": [
    {
     "data": {
      "text/plain": [
       "[0, 20, 20, 20, 20, 1, 1, 1, 1, 0, 0, 1]"
      ]
     },
     "execution_count": 14,
     "metadata": {},
     "output_type": "execute_result"
    }
   ],
   "source": [
    "a=deets.pop(-2)\n",
    "deets.insert(0,a)\n",
    "for i in range(len(deets)):\n",
    "    if deets[i] is True:\n",
    "        deets[i]=1\n",
    "    elif deets[i] is False:\n",
    "        deets[i]=0\n",
    "deets"
   ]
  },
  {
   "cell_type": "code",
   "execution_count": null,
   "id": "25456915",
   "metadata": {},
   "outputs": [],
   "source": [
    "deets"
   ]
  },
  {
   "cell_type": "code",
   "execution_count": null,
   "id": "d830b878",
   "metadata": {},
   "outputs": [],
   "source": []
  }
 ],
 "metadata": {
  "kernelspec": {
   "display_name": "Python 3 (ipykernel)",
   "language": "python",
   "name": "python3"
  },
  "language_info": {
   "codemirror_mode": {
    "name": "ipython",
    "version": 3
   },
   "file_extension": ".py",
   "mimetype": "text/x-python",
   "name": "python",
   "nbconvert_exporter": "python",
   "pygments_lexer": "ipython3",
   "version": "3.11.4"
  }
 },
 "nbformat": 4,
 "nbformat_minor": 5
}
